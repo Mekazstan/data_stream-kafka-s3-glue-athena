{
 "cells": [
  {
   "cell_type": "code",
   "execution_count": 6,
   "metadata": {},
   "outputs": [
    {
     "name": "stdout",
     "output_type": "stream",
     "text": [
      "Defaulting to user installation because normal site-packages is not writeable\n",
      "Requirement already satisfied: s3fs in /home/chukwuemeka/.local/lib/python3.10/site-packages (2023.12.2)\n",
      "Requirement already satisfied: aiobotocore<3.0.0,>=2.5.4 in /home/chukwuemeka/.local/lib/python3.10/site-packages (from s3fs) (2.11.0)\n",
      "Requirement already satisfied: fsspec==2023.12.2 in /home/chukwuemeka/.local/lib/python3.10/site-packages (from s3fs) (2023.12.2)\n",
      "Requirement already satisfied: aiohttp!=4.0.0a0,!=4.0.0a1 in /home/chukwuemeka/.local/lib/python3.10/site-packages (from s3fs) (3.9.1)\n",
      "Requirement already satisfied: botocore<1.34.23,>=1.33.2 in /home/chukwuemeka/.local/lib/python3.10/site-packages (from aiobotocore<3.0.0,>=2.5.4->s3fs) (1.34.22)\n",
      "Requirement already satisfied: wrapt<2.0.0,>=1.10.10 in /home/chukwuemeka/.local/lib/python3.10/site-packages (from aiobotocore<3.0.0,>=2.5.4->s3fs) (1.16.0)\n",
      "Requirement already satisfied: aioitertools<1.0.0,>=0.5.1 in /home/chukwuemeka/.local/lib/python3.10/site-packages (from aiobotocore<3.0.0,>=2.5.4->s3fs) (0.11.0)\n",
      "Requirement already satisfied: attrs>=17.3.0 in /home/chukwuemeka/.local/lib/python3.10/site-packages (from aiohttp!=4.0.0a0,!=4.0.0a1->s3fs) (23.1.0)\n",
      "Requirement already satisfied: multidict<7.0,>=4.5 in /home/chukwuemeka/.local/lib/python3.10/site-packages (from aiohttp!=4.0.0a0,!=4.0.0a1->s3fs) (6.0.4)\n",
      "Requirement already satisfied: yarl<2.0,>=1.0 in /home/chukwuemeka/.local/lib/python3.10/site-packages (from aiohttp!=4.0.0a0,!=4.0.0a1->s3fs) (1.9.4)\n",
      "Requirement already satisfied: frozenlist>=1.1.1 in /home/chukwuemeka/.local/lib/python3.10/site-packages (from aiohttp!=4.0.0a0,!=4.0.0a1->s3fs) (1.4.0)\n",
      "Requirement already satisfied: aiosignal>=1.1.2 in /home/chukwuemeka/.local/lib/python3.10/site-packages (from aiohttp!=4.0.0a0,!=4.0.0a1->s3fs) (1.3.1)\n",
      "Requirement already satisfied: async-timeout<5.0,>=4.0 in /home/chukwuemeka/.local/lib/python3.10/site-packages (from aiohttp!=4.0.0a0,!=4.0.0a1->s3fs) (4.0.3)\n",
      "Requirement already satisfied: jmespath<2.0.0,>=0.7.1 in /usr/lib/python3/dist-packages (from botocore<1.34.23,>=1.33.2->aiobotocore<3.0.0,>=2.5.4->s3fs) (0.10.0)\n",
      "Requirement already satisfied: python-dateutil<3.0.0,>=2.1 in /home/chukwuemeka/.local/lib/python3.10/site-packages (from botocore<1.34.23,>=1.33.2->aiobotocore<3.0.0,>=2.5.4->s3fs) (2.8.2)\n",
      "Requirement already satisfied: urllib3<2.1,>=1.25.4 in /usr/lib/python3/dist-packages (from botocore<1.34.23,>=1.33.2->aiobotocore<3.0.0,>=2.5.4->s3fs) (1.26.5)\n",
      "Requirement already satisfied: idna>=2.0 in /usr/lib/python3/dist-packages (from yarl<2.0,>=1.0->aiohttp!=4.0.0a0,!=4.0.0a1->s3fs) (3.3)\n",
      "Requirement already satisfied: six>=1.5 in /usr/lib/python3/dist-packages (from python-dateutil<3.0.0,>=2.1->botocore<1.34.23,>=1.33.2->aiobotocore<3.0.0,>=2.5.4->s3fs) (1.16.0)\n"
     ]
    }
   ],
   "source": [
    "!pip install s3fs"
   ]
  },
  {
   "cell_type": "code",
   "execution_count": 27,
   "metadata": {},
   "outputs": [],
   "source": [
    "import json\n",
    "import pandas as pd\n",
    "from time import sleep\n",
    "from json import dumps, loads\n",
    "from kafka import KafkaConsumer\n",
    "\n",
    "# Inorder to enable sending to s3 bucket you need to\n",
    "# - Setup s3 bucket \n",
    "# - Configure AWS on local device using the AWS CLI\n",
    "from s3fs import S3FileSystem"
   ]
  },
  {
   "cell_type": "code",
   "execution_count": 28,
   "metadata": {},
   "outputs": [],
   "source": [
    "\"\"\"\n",
    " - Initializing the Consumer class \n",
    " - Connecting to the kafka bootstrap server\n",
    " - Decoding the data\n",
    "\"\"\"\n",
    "consumer = KafkaConsumer('order_transactions',\n",
    "                        bootstrap_servers=['0.0.0.0:9092'],\n",
    "                        value_deserializer=lambda x: loads(x.decode('utf-8')))"
   ]
  },
  {
   "cell_type": "code",
   "execution_count": 16,
   "metadata": {},
   "outputs": [],
   "source": [
    "# # Consuming the data\n",
    "# for c in consumer:\n",
    "#     print(c.value)"
   ]
  },
  {
   "cell_type": "code",
   "execution_count": 33,
   "metadata": {},
   "outputs": [],
   "source": [
    "# Initialize S3 client\n",
    "s3 = S3FileSystem()\n",
    "\n",
    "# Specify the S3 bucket and prefix\n",
    "s3_bucket = 'kafka-stream-transactions-stan'\n",
    "s3_prefix = 'transactions'"
   ]
  },
  {
   "cell_type": "code",
   "execution_count": 35,
   "metadata": {},
   "outputs": [],
   "source": [
    "# Iterate over messages\n",
    "for count, message in enumerate(consumer):\n",
    "    \n",
    "    # Create a unique S3 key for each message\n",
    "    s3_key = f\"{s3_prefix}_{count}.json\"\n",
    "\n",
    "    # Dump the message value to a JSON file and upload to S3\n",
    "    with s3.open(f\"s3://{s3_bucket}/{s3_key}\", 'w') as s3_file:\n",
    "        print(f\"Starting processing message {count}.\")\n",
    "        try:\n",
    "            json.dump(message.value, s3_file)\n",
    "        except Exception as e:\n",
    "            print(f\"Error while dumping JSON: {e}\")\n",
    "\n",
    "\n",
    "    print(f\"Done processing message {count}.\")\n",
    "        "
   ]
  }
 ],
 "metadata": {
  "kernelspec": {
   "display_name": "Python 3",
   "language": "python",
   "name": "python3"
  },
  "language_info": {
   "codemirror_mode": {
    "name": "ipython",
    "version": 3
   },
   "file_extension": ".py",
   "mimetype": "text/x-python",
   "name": "python",
   "nbconvert_exporter": "python",
   "pygments_lexer": "ipython3",
   "version": "3.10.12"
  }
 },
 "nbformat": 4,
 "nbformat_minor": 2
}
